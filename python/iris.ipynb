{
  "cells": [
    {
      "cell_type": "code",
      "execution_count": 20,
      "metadata": {
        "id": "38fLBUxcUVWz"
      },
      "outputs": [],
      "source": [
        "def getFileData(fileName):\n",
        "  arq = open(fileName)\n",
        "  data = []\n",
        "\n",
        "  for row in arq:\n",
        "    data.append(row)\n",
        "\n",
        "  arq.close()\n",
        "  return data\n",
        "\n",
        "\n",
        "fileData = getFileData('../files/iris_dataset.csv')\n",
        "\n",
        "header_= fileData[0]\n",
        "rows = fileData[1:]"
      ]
    },
    {
      "cell_type": "code",
      "execution_count": 21,
      "metadata": {
        "id": "5AWpCkKoVeUg"
      },
      "outputs": [],
      "source": [
        "samples = {\n",
        "    \"setosa\": 0,\n",
        "    \"versicolor\": 0,\n",
        "    \"virginica\": 0\n",
        "}\n",
        "\n",
        "sepal_lengths = []\n",
        "sepal_widths = []\n",
        "\n",
        "petal_lengths = []\n",
        "petal_widths = []"
      ]
    },
    {
      "cell_type": "code",
      "execution_count": 22,
      "metadata": {},
      "outputs": [],
      "source": [
        "for row in rows:\n",
        "  infos = row.replace('\\n', '').split(',')\n",
        "\n",
        "  sepal_lengths.append(float(infos[0]))\n",
        "  sepal_widths.append(float(infos[1]))\n",
        "\n",
        "  petal_lengths.append(float(infos[2]))\n",
        "  petal_widths.append(float(infos[3]))\n",
        "\n",
        "  target = infos[4].replace('Iris-', '')\n",
        "  samples[target] = samples[target] + 1\n",
        "\n",
        "samples_amount = sum(samples.values())\n"
      ]
    },
    {
      "cell_type": "code",
      "execution_count": 23,
      "metadata": {
        "colab": {
          "base_uri": "https://localhost:8080/"
        },
        "id": "tis-p49UX_UA",
        "outputId": "7bc343c2-252c-4902-fabd-96f115980276"
      },
      "outputs": [],
      "source": [
        "\n",
        "def getSampleData(sample):\n",
        "  amount = samples[sample]\n",
        "  percentage = (samples[sample] / samples_amount) * 100\n",
        "  rounded_percentage = round(percentage, 2)\n",
        "\n",
        "  return f\"Quantidade de amostras Iris-{sample}: {amount} - {rounded_percentage}%\"\n",
        "\n",
        "\n",
        "def getSepalAndPetalData(list):\n",
        "  media = round(sum(list) / len(list), 2)\n",
        "  return f\"mínimo - {min(list)}, máximo - {max(list)}, média - {media}\"\n",
        "\n"
      ]
    },
    {
      "cell_type": "code",
      "execution_count": 24,
      "metadata": {
        "id": "Df4KVJk5h13T"
      },
      "outputs": [
        {
          "name": "stdout",
          "output_type": "stream",
          "text": [
            "Quantidade de amostras Iris-setosa: 50 - 33.33%\n",
            "Quantidade de amostras Iris-versicolor: 50 - 33.33%\n",
            "Quantidade de amostras Iris-virginica: 50 - 33.33%\n",
            "\n",
            "\n",
            "Quantidade total de amostras: 150\n",
            "Espécie com maior quantidade de amostras: Iris-setosa\n",
            "\n",
            "\n",
            "Comprimento do sépal: mínimo - 4.3, máximo - 7.9, média - 5.84\n",
            "Largura do sépal: mínimo - 2.0, máximo - 4.4, média - 3.05\n",
            "\n",
            "\n",
            "Comprimento da pétala: mínimo - 1.0, máximo - 6.9, média - 3.76\n",
            "Largura da pétala: mínimo - 0.1, máximo - 2.5, média - 1.2\n",
            "\n",
            "\n"
          ]
        }
      ],
      "source": [
        "def printSamplesData():\n",
        "  larger_samples_amount = max(samples, key=lambda k: samples[k])\n",
        "\n",
        "  print(getSampleData(\"setosa\"))\n",
        "  print(getSampleData(\"versicolor\"))\n",
        "  print(getSampleData(\"virginica\"))\n",
        "  print('\\n')\n",
        "\n",
        "  print(f\"Quantidade total de amostras: {samples_amount}\")\n",
        "  print(f\"Espécie com maior quantidade de amostras: Iris-{larger_samples_amount}\")\n",
        "  print('\\n')\n",
        "\n",
        "  print(f\"Comprimento do sépal: {getSepalAndPetalData(sepal_lengths)}\")\n",
        "  print(f\"Largura do sépal: {getSepalAndPetalData(sepal_widths)}\")\n",
        "  print('\\n')\n",
        "\n",
        "  print(f\"Comprimento da pétala: {getSepalAndPetalData(petal_lengths)}\")\n",
        "  print(f\"Largura da pétala: {getSepalAndPetalData(petal_widths)}\")\n",
        "  print('\\n')\n",
        "\n",
        "printSamplesData()"
      ]
    },
    {
      "cell_type": "code",
      "execution_count": null,
      "metadata": {},
      "outputs": [],
      "source": []
    }
  ],
  "metadata": {
    "colab": {
      "provenance": [],
      "toc_visible": true
    },
    "kernelspec": {
      "display_name": "Python 3",
      "name": "python3"
    },
    "language_info": {
      "codemirror_mode": {
        "name": "ipython",
        "version": 3
      },
      "file_extension": ".py",
      "mimetype": "text/x-python",
      "name": "python",
      "nbconvert_exporter": "python",
      "pygments_lexer": "ipython3",
      "version": "3.12.5"
    }
  },
  "nbformat": 4,
  "nbformat_minor": 0
}
